{
  "nbformat": 4,
  "nbformat_minor": 0,
  "metadata": {
    "colab": {
      "provenance": []
    },
    "kernelspec": {
      "name": "python3",
      "display_name": "Python 3"
    },
    "language_info": {
      "name": "python"
    }
  },
  "cells": [
    {
      "cell_type": "code",
      "source": [
        "!pip install dash"
      ],
      "metadata": {
        "colab": {
          "base_uri": "https://localhost:8080/"
        },
        "id": "WOWhiG238bRS",
        "outputId": "0232bc3c-a2b3-47d8-85f6-1524837f517e"
      },
      "execution_count": 1,
      "outputs": [
        {
          "output_type": "stream",
          "name": "stdout",
          "text": [
            "Collecting dash\n",
            "  Downloading dash-3.2.0-py3-none-any.whl.metadata (10 kB)\n",
            "Requirement already satisfied: Flask<3.2,>=1.0.4 in /usr/local/lib/python3.12/dist-packages (from dash) (3.1.1)\n",
            "Requirement already satisfied: Werkzeug<3.2 in /usr/local/lib/python3.12/dist-packages (from dash) (3.1.3)\n",
            "Requirement already satisfied: plotly>=5.0.0 in /usr/local/lib/python3.12/dist-packages (from dash) (5.24.1)\n",
            "Requirement already satisfied: importlib-metadata in /usr/local/lib/python3.12/dist-packages (from dash) (8.7.0)\n",
            "Requirement already satisfied: typing-extensions>=4.1.1 in /usr/local/lib/python3.12/dist-packages (from dash) (4.14.1)\n",
            "Requirement already satisfied: requests in /usr/local/lib/python3.12/dist-packages (from dash) (2.32.4)\n",
            "Collecting retrying (from dash)\n",
            "  Downloading retrying-1.4.2-py3-none-any.whl.metadata (5.5 kB)\n",
            "Requirement already satisfied: nest-asyncio in /usr/local/lib/python3.12/dist-packages (from dash) (1.6.0)\n",
            "Requirement already satisfied: setuptools in /usr/local/lib/python3.12/dist-packages (from dash) (75.2.0)\n",
            "Requirement already satisfied: blinker>=1.9.0 in /usr/local/lib/python3.12/dist-packages (from Flask<3.2,>=1.0.4->dash) (1.9.0)\n",
            "Requirement already satisfied: click>=8.1.3 in /usr/local/lib/python3.12/dist-packages (from Flask<3.2,>=1.0.4->dash) (8.2.1)\n",
            "Requirement already satisfied: itsdangerous>=2.2.0 in /usr/local/lib/python3.12/dist-packages (from Flask<3.2,>=1.0.4->dash) (2.2.0)\n",
            "Requirement already satisfied: jinja2>=3.1.2 in /usr/local/lib/python3.12/dist-packages (from Flask<3.2,>=1.0.4->dash) (3.1.6)\n",
            "Requirement already satisfied: markupsafe>=2.1.1 in /usr/local/lib/python3.12/dist-packages (from Flask<3.2,>=1.0.4->dash) (3.0.2)\n",
            "Requirement already satisfied: tenacity>=6.2.0 in /usr/local/lib/python3.12/dist-packages (from plotly>=5.0.0->dash) (8.5.0)\n",
            "Requirement already satisfied: packaging in /usr/local/lib/python3.12/dist-packages (from plotly>=5.0.0->dash) (25.0)\n",
            "Requirement already satisfied: zipp>=3.20 in /usr/local/lib/python3.12/dist-packages (from importlib-metadata->dash) (3.23.0)\n",
            "Requirement already satisfied: charset_normalizer<4,>=2 in /usr/local/lib/python3.12/dist-packages (from requests->dash) (3.4.3)\n",
            "Requirement already satisfied: idna<4,>=2.5 in /usr/local/lib/python3.12/dist-packages (from requests->dash) (3.10)\n",
            "Requirement already satisfied: urllib3<3,>=1.21.1 in /usr/local/lib/python3.12/dist-packages (from requests->dash) (2.5.0)\n",
            "Requirement already satisfied: certifi>=2017.4.17 in /usr/local/lib/python3.12/dist-packages (from requests->dash) (2025.8.3)\n",
            "Downloading dash-3.2.0-py3-none-any.whl (7.9 MB)\n",
            "\u001b[2K   \u001b[90m━━━━━━━━━━━━━━━━━━━━━━━━━━━━━━━━━━━━━━━━\u001b[0m \u001b[32m7.9/7.9 MB\u001b[0m \u001b[31m40.1 MB/s\u001b[0m eta \u001b[36m0:00:00\u001b[0m\n",
            "\u001b[?25hDownloading retrying-1.4.2-py3-none-any.whl (10 kB)\n",
            "Installing collected packages: retrying, dash\n",
            "Successfully installed dash-3.2.0 retrying-1.4.2\n"
          ]
        }
      ]
    },
    {
      "cell_type": "code",
      "execution_count": 2,
      "metadata": {
        "id": "hilSLyerOok_",
        "colab": {
          "base_uri": "https://localhost:8080/",
          "height": 671
        },
        "outputId": "5018fca3-3efe-40e2-a161-c5e9fa216776"
      },
      "outputs": [
        {
          "output_type": "display_data",
          "data": {
            "text/plain": [
              "<IPython.core.display.Javascript object>"
            ],
            "application/javascript": [
              "(async (port, path, width, height, cache, element) => {\n",
              "    if (!google.colab.kernel.accessAllowed && !cache) {\n",
              "      return;\n",
              "    }\n",
              "    element.appendChild(document.createTextNode(''));\n",
              "    const url = await google.colab.kernel.proxyPort(port, {cache});\n",
              "    const iframe = document.createElement('iframe');\n",
              "    iframe.src = new URL(path, url).toString();\n",
              "    iframe.height = height;\n",
              "    iframe.width = width;\n",
              "    iframe.style.border = 0;\n",
              "    iframe.allow = [\n",
              "        'accelerometer',\n",
              "        'autoplay',\n",
              "        'camera',\n",
              "        'clipboard-read',\n",
              "        'clipboard-write',\n",
              "        'gyroscope',\n",
              "        'magnetometer',\n",
              "        'microphone',\n",
              "        'serial',\n",
              "        'usb',\n",
              "        'xr-spatial-tracking',\n",
              "    ].join('; ');\n",
              "    element.appendChild(iframe);\n",
              "  })(8050, \"/\", \"100%\", 650, false, window.element)"
            ]
          },
          "metadata": {}
        }
      ],
      "source": [
        "import time\n",
        "import requests\n",
        "import pandas as pd\n",
        "import plotly.graph_objects as go\n",
        "from dash import Dash, dcc, html, Input, Output\n",
        "\n",
        "# API\n",
        "ISS_API = \"http://api.open-notify.org/iss-now.json\"\n",
        "UPDATE_INTERVAL_MS = 5000\n",
        "TRAIL_LENGTH = 100\n",
        "\n",
        "# Fetch ISS Position\n",
        "\n",
        "def fetch_iss_position():\n",
        "    try:\n",
        "        r = requests.get(ISS_API, timeout = 10)\n",
        "        data = r.json()\n",
        "        lat = float(data['iss_position']['latitude'])\n",
        "        lon = float(data['iss_position']['longitude'])\n",
        "        ts = int(data.get(\"timestamp\", time.time()))\n",
        "\n",
        "        return lat, lon, ts\n",
        "\n",
        "    except Exception as e:\n",
        "        print(\"Error:\", e)\n",
        "\n",
        "# Initial Figure\n",
        "fig = go.Figure()\n",
        "\n",
        "# Dash App\n",
        "\n",
        "app = Dash(__name__)\n",
        "\n",
        "app.layout = html.Div([html.H3(\"Real-time ISS Tracking\"),\n",
        "                       dcc.Graph(id = \"map\", figure = fig, style = {\"height\": \"85vh\"}),\n",
        "                       dcc.Interval(id = \"interval\", interval = UPDATE_INTERVAL_MS, n_intervals = 0),\n",
        "                       html.Div(id = \"status\", style = {\"padding\":\"8px\", \"fontSize\":\"14px\"})])\n",
        "\n",
        "# Store ISS trail\n",
        "\n",
        "trail_df = pd.DataFrame(columns = [\"ts\", \"lat\", \"lon\"])\n",
        "\n",
        "@app.callback(Output(\"map\", \"figure\"),\n",
        "              Output(\"status\", \"children\"),\n",
        "              Input(\"interval\", \"n_intervals\"))\n",
        "\n",
        "def update_map(n):\n",
        "\n",
        "    global trail_df, fig\n",
        "\n",
        "    pos = fetch_iss_position()\n",
        "\n",
        "    if pos is None:\n",
        "        return fig, \"Failed to fetch ISS Position\"\n",
        "\n",
        "    lat, lon, ts = pos\n",
        "\n",
        "    new_row = {\"ts\":ts, \"lat\":lat, \"lon\":lon}\n",
        "\n",
        "    trail_df = pd.concat([trail_df, pd.DataFrame([new_row])], ignore_index= True)\n",
        "\n",
        "    if len(trail_df) > TRAIL_LENGTH:\n",
        "        trail_df = trail_df.iloc[-TRAIL_LENGTH:]\n",
        "\n",
        "    fig = go.Figure()\n",
        "\n",
        "    # Trail\n",
        "    fig.add_trace(go.Scattergeo(lon = trail_df[\"lon\"],\n",
        "                                lat = trail_df[\"lat\"],\n",
        "                                mode = \"lines\",\n",
        "                                line = {\"width\":2, \"color\":\"orange\"},\n",
        "                                name = \"Trail\"))\n",
        "\n",
        "    # ISS marker\n",
        "\n",
        "    fig.add_trace(go.Scattergeo(lon = [lon],\n",
        "                                lat = [lat],\n",
        "                                mode = \"markers\",\n",
        "                                marker = {\"size\":8, \"color\": \"red\"},\n",
        "                                name = \"ISS\"))\n",
        "\n",
        "    fig.update_geos(projection_type = \"natural earth\",\n",
        "                    showcoastlines = True, coastlinecolor = \"black\",\n",
        "                    showland = True, landcolor = \"rgb(230, 230, 230)\",\n",
        "                    showocean = True, oceancolor = \"rgb(230, 240, 250)\")\n",
        "\n",
        "    fig.update_layout(title = \"Real-time ISS Tracker\",\n",
        "                      margin = {\"r\":0, \"l\":0, \"t\":40, \"b\":0})\n",
        "\n",
        "    status = f\"Updated:{pd.to_datetime(ts, unit = 's')} | Lat:{lat:.4f}, Lon: {lon:.4f}\"\n",
        "\n",
        "    return fig, status\n",
        "\n",
        "if __name__ == \"__main__\":\n",
        "    app.run(debug= True)\n"
      ]
    }
  ]
}